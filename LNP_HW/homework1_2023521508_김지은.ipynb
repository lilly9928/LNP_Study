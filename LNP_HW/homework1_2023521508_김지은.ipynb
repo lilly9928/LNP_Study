{
 "cells": [
  {
   "cell_type": "markdown",
   "source": [
    "## NATURAL LANGUAGE PROCESSING WITH DEEP LEARNING HW #1\n",
    "## 2023521508 김지은\n",
    "## 2023.03.08"
   ],
   "metadata": {
    "collapsed": false
   }
  },
  {
   "cell_type": "markdown",
   "source": [
    "## 수업 내용"
   ],
   "metadata": {
    "collapsed": false
   }
  },
  {
   "cell_type": "code",
   "execution_count": 173,
   "metadata": {},
   "outputs": [
    {
     "data": {
      "text/plain": "3"
     },
     "execution_count": 173,
     "metadata": {},
     "output_type": "execute_result"
    }
   ],
   "source": [
    "def add_numbers(x,y):\n",
    "    return x+y\n",
    "\n",
    "add_numbers(1,2)"
   ]
  },
  {
   "cell_type": "code",
   "execution_count": 174,
   "metadata": {},
   "outputs": [],
   "source": [
    "def add_numbers(x,y,z=None):\n",
    "    if(z==None):\n",
    "        return x+y\n",
    "    else:\n",
    "        return x+y+z"
   ]
  },
  {
   "cell_type": "code",
   "execution_count": 175,
   "metadata": {},
   "outputs": [
    {
     "data": {
      "text/plain": "str"
     },
     "execution_count": 175,
     "metadata": {},
     "output_type": "execute_result"
    }
   ],
   "source": [
    "type(\"the is string\")"
   ]
  },
  {
   "cell_type": "code",
   "execution_count": 176,
   "metadata": {},
   "outputs": [
    {
     "name": "stdout",
     "output_type": "stream",
     "text": [
      "<class 'NoneType'>\n",
      "<class 'int'>\n",
      "<class 'float'>\n",
      "<class 'function'>\n"
     ]
    }
   ],
   "source": [
    "print(type(None))\n",
    "print(type(1))\n",
    "print(type(1.0))\n",
    "print(type(add_numbers))\n"
   ]
  },
  {
   "cell_type": "code",
   "execution_count": 177,
   "metadata": {},
   "outputs": [
    {
     "data": {
      "text/plain": "tuple"
     },
     "execution_count": 177,
     "metadata": {},
     "output_type": "execute_result"
    }
   ],
   "source": [
    "x=(1,'a',2,'b')\n",
    "type(x)"
   ]
  },
  {
   "cell_type": "code",
   "execution_count": 178,
   "metadata": {},
   "outputs": [],
   "source": [
    "#x[0]=5"
   ]
  },
  {
   "cell_type": "code",
   "execution_count": 179,
   "metadata": {},
   "outputs": [
    {
     "data": {
      "text/plain": "list"
     },
     "execution_count": 179,
     "metadata": {},
     "output_type": "execute_result"
    }
   ],
   "source": [
    "x=[1,'a',2,'b']\n",
    "type(x)"
   ]
  },
  {
   "cell_type": "code",
   "execution_count": 180,
   "metadata": {},
   "outputs": [
    {
     "name": "stdout",
     "output_type": "stream",
     "text": [
      "[1, 'a', 2, 'b', 3.3]\n"
     ]
    }
   ],
   "source": [
    "x.append(3.3)\n",
    "print(x)"
   ]
  },
  {
   "cell_type": "code",
   "execution_count": 181,
   "metadata": {},
   "outputs": [
    {
     "name": "stdout",
     "output_type": "stream",
     "text": [
      "1\n",
      "a\n",
      "2\n",
      "b\n",
      "3.3\n"
     ]
    }
   ],
   "source": [
    "for item in x:\n",
    "    print(item)"
   ]
  },
  {
   "cell_type": "code",
   "execution_count": 182,
   "metadata": {},
   "outputs": [
    {
     "name": "stdout",
     "output_type": "stream",
     "text": [
      "1\n",
      "2\n",
      "3\n",
      "4\n"
     ]
    }
   ],
   "source": [
    "for item in range(1,5):\n",
    "    print(item)"
   ]
  },
  {
   "cell_type": "code",
   "execution_count": 183,
   "metadata": {},
   "outputs": [
    {
     "name": "stdout",
     "output_type": "stream",
     "text": [
      "1\n",
      "a\n",
      "2\n",
      "b\n",
      "3.3\n"
     ]
    }
   ],
   "source": [
    "i = 0\n",
    "while( i != len(x)):\n",
    "    print(x[i])\n",
    "    i = i+1"
   ]
  },
  {
   "cell_type": "code",
   "execution_count": 184,
   "metadata": {},
   "outputs": [
    {
     "data": {
      "text/plain": "[1, 'a', 2, 'b', 3.3, 3, 4]"
     },
     "execution_count": 184,
     "metadata": {},
     "output_type": "execute_result"
    }
   ],
   "source": [
    "x+[3,4]\n"
   ]
  },
  {
   "cell_type": "code",
   "execution_count": 185,
   "metadata": {},
   "outputs": [
    {
     "data": {
      "text/plain": "[1, 1, 1]"
     },
     "execution_count": 185,
     "metadata": {},
     "output_type": "execute_result"
    }
   ],
   "source": [
    "[1]*3"
   ]
  },
  {
   "cell_type": "code",
   "execution_count": 186,
   "metadata": {},
   "outputs": [
    {
     "data": {
      "text/plain": "True"
     },
     "execution_count": 186,
     "metadata": {},
     "output_type": "execute_result"
    }
   ],
   "source": [
    "1 in x "
   ]
  },
  {
   "cell_type": "code",
   "execution_count": 187,
   "metadata": {},
   "outputs": [
    {
     "data": {
      "text/plain": "'This is string'"
     },
     "execution_count": 187,
     "metadata": {},
     "output_type": "execute_result"
    }
   ],
   "source": [
    "x = 'This is string'\n",
    "x"
   ]
  },
  {
   "cell_type": "code",
   "execution_count": 188,
   "metadata": {},
   "outputs": [
    {
     "name": "stdout",
     "output_type": "stream",
     "text": [
      "T\n"
     ]
    }
   ],
   "source": [
    "print(x[0])"
   ]
  },
  {
   "cell_type": "code",
   "execution_count": 189,
   "metadata": {},
   "outputs": [
    {
     "name": "stdout",
     "output_type": "stream",
     "text": [
      "T\n",
      "Th\n"
     ]
    }
   ],
   "source": [
    "print(x[0:1])\n",
    "print(x[0:2])"
   ]
  },
  {
   "cell_type": "code",
   "execution_count": 190,
   "metadata": {},
   "outputs": [
    {
     "name": "stdout",
     "output_type": "stream",
     "text": [
      "rin\n",
      "g\n"
     ]
    }
   ],
   "source": [
    "print(x[-4:-1])\n",
    "print(x[-1])"
   ]
  },
  {
   "cell_type": "code",
   "execution_count": 191,
   "metadata": {},
   "outputs": [
    {
     "name": "stdout",
     "output_type": "stream",
     "text": [
      "This is string\n",
      "Thi\n",
      "s is string\n",
      "This is string.\n",
      "This is string3\n"
     ]
    }
   ],
   "source": [
    "print(x)\n",
    "print(x[:3])\n",
    "print(x[3:])\n",
    "print(x+'.')\n",
    "print(x+'3')"
   ]
  },
  {
   "cell_type": "code",
   "execution_count": 192,
   "metadata": {},
   "outputs": [],
   "source": [
    "#x+3"
   ]
  },
  {
   "cell_type": "code",
   "execution_count": 193,
   "metadata": {},
   "outputs": [
    {
     "data": {
      "text/plain": "'chris@yonsei.ac.kr'"
     },
     "execution_count": 193,
     "metadata": {},
     "output_type": "execute_result"
    }
   ],
   "source": [
    "x = {'Chris':'chris@yonsei.ac.kr','bjang':'bjang@yonsei.ac.kr'}\n",
    "x['Chris']\n",
    "#x['chris@yonsei.ac.kr']"
   ]
  },
  {
   "cell_type": "code",
   "execution_count": 194,
   "metadata": {},
   "outputs": [
    {
     "name": "stdout",
     "output_type": "stream",
     "text": [
      "chris@yonsei.ac.kr\n",
      "bjang@yonsei.ac.kr\n",
      "Chris chris@yonsei.ac.kr\n",
      "bjang bjang@yonsei.ac.kr\n",
      "dict_values(['chris@yonsei.ac.kr', 'bjang@yonsei.ac.kr'])\n"
     ]
    }
   ],
   "source": [
    "for email in x.values():\n",
    "    print(email)\n",
    "\n",
    "for name,email in x.items():\n",
    "    print(name,email)\n",
    "\n",
    "print(x.values())"
   ]
  },
  {
   "cell_type": "code",
   "execution_count": 195,
   "metadata": {},
   "outputs": [],
   "source": [
    "PI = 3.14\n",
    "def ar_circle(rad):\n",
    "    return rad * rad * PI\n",
    "\n",
    "def ci_circle(rad):\n",
    "    return rad * 2 * PI"
   ]
  },
  {
   "cell_type": "code",
   "execution_count": 196,
   "metadata": {},
   "outputs": [
    {
     "name": "stdout",
     "output_type": "stream",
     "text": [
      "94.985\n",
      "34.54\n"
     ]
    }
   ],
   "source": [
    "r = float(input(\"반지름입력:\"))\n",
    "ar = ar_circle(r)\n",
    "print(ar)\n",
    "\n",
    "ci = ci_circle(r)\n",
    "print(ci)"
   ]
  },
  {
   "cell_type": "code",
   "execution_count": 197,
   "metadata": {},
   "outputs": [],
   "source": [
    "class Ageinfo:\n",
    "    def __init__(self,age):\n",
    "        self.age = age\n",
    "        print(\"news~\")\n",
    "    \n",
    "    def up_age(self):\n",
    "        self.age += 1\n",
    "\n",
    "    def get_age(self):\n",
    "        return self.age"
   ]
  },
  {
   "cell_type": "code",
   "execution_count": 198,
   "metadata": {},
   "outputs": [
    {
     "name": "stdout",
     "output_type": "stream",
     "text": [
      "news~\n",
      "news~\n",
      "news~\n",
      "89\n",
      "92\n"
     ]
    }
   ],
   "source": [
    "fa = Ageinfo(39)\n",
    "ma = Ageinfo(35)\n",
    "me = Ageinfo(15)\n",
    "\n",
    "sum = fa.get_age()+ma.get_age()+me.get_age()\n",
    "\n",
    "print(sum)\n",
    "\n",
    "fa.up_age()\n",
    "ma.up_age()\n",
    "me.up_age()\n",
    "\n",
    "sum = fa.get_age()+ma.get_age()+me.get_age()\n",
    "\n",
    "print(sum)"
   ]
  },
  {
   "cell_type": "markdown",
   "source": [
    "## 연습문제1"
   ],
   "metadata": {
    "collapsed": false
   }
  },
  {
   "cell_type": "code",
   "execution_count": 199,
   "metadata": {},
   "outputs": [
    {
     "name": "stdout",
     "output_type": "stream",
     "text": [
      "070609\n"
     ]
    }
   ],
   "source": [
    "def birth_only(x):\n",
    "    return x.split('-')[0]\n",
    "\n",
    "\n",
    "p1 = \"070609-2011xxx\"\n",
    "p1 = birth_only(p1)\n",
    "\n",
    "print(p1)"
   ]
  },
  {
   "cell_type": "markdown",
   "source": [
    "## 연습문제2"
   ],
   "metadata": {
    "collapsed": false
   }
  },
  {
   "cell_type": "code",
   "execution_count": 200,
   "metadata": {},
   "outputs": [
    {
     "name": "stdout",
     "output_type": "stream",
     "text": [
      "0\n",
      "1\n",
      "2\n",
      "3\n",
      "4\n",
      "5\n",
      "6\n",
      "7\n",
      "8\n",
      "9\n"
     ]
    }
   ],
   "source": [
    "i = 0\n",
    "while i != 10:\n",
    "    print(i)\n",
    "    i=i+1\n"
   ]
  },
  {
   "cell_type": "markdown",
   "source": [
    "## 연습문제 3"
   ],
   "metadata": {
    "collapsed": false
   }
  },
  {
   "cell_type": "code",
   "execution_count": 205,
   "metadata": {},
   "outputs": [
    {
     "name": "stdout",
     "output_type": "stream",
     "text": [
      "90\n"
     ]
    }
   ],
   "source": [
    "lcm = 0\n",
    "lcm =45\n",
    "while True:\n",
    "\n",
    "    if lcm % 6 ==0 and lcm % 45 ==0:\n",
    "        break\n",
    "    else:\n",
    "        lcm= lcm+1\n",
    "\n",
    "print(lcm)\n"
   ]
  },
  {
   "cell_type": "markdown",
   "source": [
    "## 연습문제 4,5"
   ],
   "metadata": {
    "collapsed": false
   }
  },
  {
   "cell_type": "code",
   "execution_count": 202,
   "metadata": {},
   "outputs": [
    {
     "name": "stdout",
     "output_type": "stream",
     "text": [
      "{'새우깡': 700, '콘치즈': 850, '꼬깔콘': 750, '홈런볼': 900}\n",
      "{'새우깡': 800, '콘치즈': 950, '꼬깔콘': 850, '홈런볼': 1000}\n"
     ]
    }
   ],
   "source": [
    "dc = {'새우깡' : 700, '콘치즈' : 850, '꼬깔콘' : 750}\n",
    "dc['홈런볼'] = 900\n",
    "\n",
    "print(dc)\n",
    "\n",
    "for i in dc.keys():\n",
    "    dc[i] +=100\n",
    "\n",
    "print(dc)\n"
   ]
  },
  {
   "cell_type": "markdown",
   "source": [
    "## 연습문제 6"
   ],
   "metadata": {
    "collapsed": false
   }
  },
  {
   "cell_type": "code",
   "execution_count": 203,
   "outputs": [],
   "source": [
    "class Friend:\n",
    "    def __init__(self,name,num):\n",
    "        self.name = name\n",
    "        self.num = num\n",
    "\n",
    "    def get_name(self):\n",
    "        return self.name\n",
    "\n",
    "    def get_phone(self):\n",
    "        return self.num\n",
    "\n",
    "    def set_phone(self,num):\n",
    "        self.num = num\n",
    "\n",
    "    def show_info(self):\n",
    "        print('이름'+self.name)\n",
    "        print('전화번호'+self.num)\n",
    "\n"
   ],
   "metadata": {
    "collapsed": false
   }
  },
  {
   "cell_type": "code",
   "execution_count": 204,
   "outputs": [
    {
     "name": "stdout",
     "output_type": "stream",
     "text": [
      "이름윤성우\n",
      "전화번호010-111-222\n"
     ]
    }
   ],
   "source": [
    "f=Friend('윤성우','010-111-222')\n",
    "f.get_name()\n",
    "f.get_phone()\n",
    "f.show_info()"
   ],
   "metadata": {
    "collapsed": false
   }
  }
 ],
 "metadata": {
  "kernelspec": {
   "display_name": "base",
   "language": "python",
   "name": "python3"
  },
  "language_info": {
   "codemirror_mode": {
    "name": "ipython",
    "version": 3
   },
   "file_extension": ".py",
   "mimetype": "text/x-python",
   "name": "python",
   "nbconvert_exporter": "python",
   "pygments_lexer": "ipython3",
   "version": "3.8.12 (default, Oct 12 2021, 03:01:40) [MSC v.1916 64 bit (AMD64)]"
  },
  "orig_nbformat": 4,
  "vscode": {
   "interpreter": {
    "hash": "e2e7227166b04eab53f7f00b15f1e6197cd7962806e0a8fa81bce65b11c466b3"
   }
  }
 },
 "nbformat": 4,
 "nbformat_minor": 2
}
